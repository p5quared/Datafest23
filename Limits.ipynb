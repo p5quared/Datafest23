{
 "cells": [
  {
   "cell_type": "markdown",
   "source": [
    "# Goal:\n",
    "Determine if the limits for eligibility are equal among states.\n",
    "\n",
    "Compare the eligible population percent per state to the national average."
   ],
   "metadata": {
    "collapsed": false
   }
  },
  {
   "cell_type": "code",
   "execution_count": 12,
   "outputs": [],
   "source": [
    "import pandas as pd\n",
    "import seaborn as sns"
   ],
   "metadata": {
    "collapsed": false,
    "ExecuteTime": {
     "start_time": "2023-04-16T22:05:56.363971Z",
     "end_time": "2023-04-16T22:05:56.368757Z"
    }
   }
  },
  {
   "cell_type": "code",
   "execution_count": 16,
   "outputs": [
    {
     "data": {
      "text/plain": "    Id StateAbbr            StateName  AllowedAssets  BaseIncomeLimit   \n0    1        AL              Alabama          10000            13590  \\\n1    2        AR             Arkansas          10000            13590   \n2    3        AZ              Arizona          10000            13590   \n3    4        CA           California          10000            13590   \n4    5        CT          Connecticut          10000            13590   \n5    6        FL              Florida          10000            13590   \n6    7        GA              Georgia          10000            13590   \n7    8        HI               Hawaii          10000            15630   \n8    9        IA                 Iowa          10000            13590   \n9   10        ID                Idaho          10000            13590   \n10  11        IL             Illinois         500000            13590   \n11  12        IN              Indiana          10000            13590   \n12  13        KS               Kansas          10000            13590   \n13  14        LA            Louisiana         500000            13590   \n14  15        MA        Massachusetts          10000            13590   \n15  16        MD             Maryland          10000            13590   \n16  17        ME                Maine         500000            13590   \n17  18        MI             Michigan          10000            13590   \n18  19        MO             Missouri         500000            13590   \n19  20        MS          Mississippi          10000            13590   \n20  21        NC       North Carolina          20000            13590   \n21  22        ND         North Dakota          10000            13590   \n22  23        NE             Nebraska         500000            13590   \n23  24        NH        New Hampshire          10000            13590   \n24  25        NJ           New Jersey         500000            13590   \n25  26        NM           New Mexico          10000            13590   \n26  27        NY             New York         500000            13590   \n27  28        OK             Oklahoma          10000            13590   \n28  29        PA         Pennsylvania          10000            13590   \n29  30        SC       South Carolina          10000            13590   \n30  31        SD         South Dakota          10000            13590   \n31  32        TN            Tennessee          10000            13590   \n32  33        TX                Texas          10000            13590   \n33  34        US          ABA Federal          10000            13590   \n34  35        UT                 Utah          10000            13590   \n35  36        VA             Virginia          10000            13590   \n36  37        VI  U.S. Virgin Islands          10000            13590   \n37  38        VT              Vermont          10000            13590   \n38  39        WA           Washington          10000            13590   \n39  40        WI            Wisconsin          20000            13590   \n40  41        WV        West Virginia          10000            13590   \n41  42        WY              Wyoming          10000            13590   \n\n    PerHouseholdMemberIncomeLimit  IncomeMultiplier  \n0                            4720               2.5  \n1                            4720               2.5  \n2                            4720               2.5  \n3                            4720               4.0  \n4                            4720               2.5  \n5                            4720               2.5  \n6                            4720               2.5  \n7                            5430               2.5  \n8                            4720               2.5  \n9                            4720               2.5  \n10                           4720               3.0  \n11                           4720               2.5  \n12                           4720               2.5  \n13                           4720               4.0  \n14                           4720               2.5  \n15                           4720               2.5  \n16                           4720               4.0  \n17                           4720               2.0  \n18                           4720               4.0  \n19                           4720               2.5  \n20                           4720               3.0  \n21                           4720               2.5  \n22                           4720               4.0  \n23                           4720               4.0  \n24                           4720               4.0  \n25                           4720               2.5  \n26                           4720               4.0  \n27                           4720               2.5  \n28                           4720               2.5  \n29                           4720               2.5  \n30                           4720               2.5  \n31                           4720               2.5  \n32                           4720               2.5  \n33                           4720               2.5  \n34                           4720               2.5  \n35                           4720               2.5  \n36                           4720               2.5  \n37                           4720               2.5  \n38                           4720               2.5  \n39                           4720               4.0  \n40                           4720               4.0  \n41                           4720               2.5  ",
      "text/html": "<div>\n<style scoped>\n    .dataframe tbody tr th:only-of-type {\n        vertical-align: middle;\n    }\n\n    .dataframe tbody tr th {\n        vertical-align: top;\n    }\n\n    .dataframe thead th {\n        text-align: right;\n    }\n</style>\n<table border=\"1\" class=\"dataframe\">\n  <thead>\n    <tr style=\"text-align: right;\">\n      <th></th>\n      <th>Id</th>\n      <th>StateAbbr</th>\n      <th>StateName</th>\n      <th>AllowedAssets</th>\n      <th>BaseIncomeLimit</th>\n      <th>PerHouseholdMemberIncomeLimit</th>\n      <th>IncomeMultiplier</th>\n    </tr>\n  </thead>\n  <tbody>\n    <tr>\n      <th>0</th>\n      <td>1</td>\n      <td>AL</td>\n      <td>Alabama</td>\n      <td>10000</td>\n      <td>13590</td>\n      <td>4720</td>\n      <td>2.5</td>\n    </tr>\n    <tr>\n      <th>1</th>\n      <td>2</td>\n      <td>AR</td>\n      <td>Arkansas</td>\n      <td>10000</td>\n      <td>13590</td>\n      <td>4720</td>\n      <td>2.5</td>\n    </tr>\n    <tr>\n      <th>2</th>\n      <td>3</td>\n      <td>AZ</td>\n      <td>Arizona</td>\n      <td>10000</td>\n      <td>13590</td>\n      <td>4720</td>\n      <td>2.5</td>\n    </tr>\n    <tr>\n      <th>3</th>\n      <td>4</td>\n      <td>CA</td>\n      <td>California</td>\n      <td>10000</td>\n      <td>13590</td>\n      <td>4720</td>\n      <td>4.0</td>\n    </tr>\n    <tr>\n      <th>4</th>\n      <td>5</td>\n      <td>CT</td>\n      <td>Connecticut</td>\n      <td>10000</td>\n      <td>13590</td>\n      <td>4720</td>\n      <td>2.5</td>\n    </tr>\n    <tr>\n      <th>5</th>\n      <td>6</td>\n      <td>FL</td>\n      <td>Florida</td>\n      <td>10000</td>\n      <td>13590</td>\n      <td>4720</td>\n      <td>2.5</td>\n    </tr>\n    <tr>\n      <th>6</th>\n      <td>7</td>\n      <td>GA</td>\n      <td>Georgia</td>\n      <td>10000</td>\n      <td>13590</td>\n      <td>4720</td>\n      <td>2.5</td>\n    </tr>\n    <tr>\n      <th>7</th>\n      <td>8</td>\n      <td>HI</td>\n      <td>Hawaii</td>\n      <td>10000</td>\n      <td>15630</td>\n      <td>5430</td>\n      <td>2.5</td>\n    </tr>\n    <tr>\n      <th>8</th>\n      <td>9</td>\n      <td>IA</td>\n      <td>Iowa</td>\n      <td>10000</td>\n      <td>13590</td>\n      <td>4720</td>\n      <td>2.5</td>\n    </tr>\n    <tr>\n      <th>9</th>\n      <td>10</td>\n      <td>ID</td>\n      <td>Idaho</td>\n      <td>10000</td>\n      <td>13590</td>\n      <td>4720</td>\n      <td>2.5</td>\n    </tr>\n    <tr>\n      <th>10</th>\n      <td>11</td>\n      <td>IL</td>\n      <td>Illinois</td>\n      <td>500000</td>\n      <td>13590</td>\n      <td>4720</td>\n      <td>3.0</td>\n    </tr>\n    <tr>\n      <th>11</th>\n      <td>12</td>\n      <td>IN</td>\n      <td>Indiana</td>\n      <td>10000</td>\n      <td>13590</td>\n      <td>4720</td>\n      <td>2.5</td>\n    </tr>\n    <tr>\n      <th>12</th>\n      <td>13</td>\n      <td>KS</td>\n      <td>Kansas</td>\n      <td>10000</td>\n      <td>13590</td>\n      <td>4720</td>\n      <td>2.5</td>\n    </tr>\n    <tr>\n      <th>13</th>\n      <td>14</td>\n      <td>LA</td>\n      <td>Louisiana</td>\n      <td>500000</td>\n      <td>13590</td>\n      <td>4720</td>\n      <td>4.0</td>\n    </tr>\n    <tr>\n      <th>14</th>\n      <td>15</td>\n      <td>MA</td>\n      <td>Massachusetts</td>\n      <td>10000</td>\n      <td>13590</td>\n      <td>4720</td>\n      <td>2.5</td>\n    </tr>\n    <tr>\n      <th>15</th>\n      <td>16</td>\n      <td>MD</td>\n      <td>Maryland</td>\n      <td>10000</td>\n      <td>13590</td>\n      <td>4720</td>\n      <td>2.5</td>\n    </tr>\n    <tr>\n      <th>16</th>\n      <td>17</td>\n      <td>ME</td>\n      <td>Maine</td>\n      <td>500000</td>\n      <td>13590</td>\n      <td>4720</td>\n      <td>4.0</td>\n    </tr>\n    <tr>\n      <th>17</th>\n      <td>18</td>\n      <td>MI</td>\n      <td>Michigan</td>\n      <td>10000</td>\n      <td>13590</td>\n      <td>4720</td>\n      <td>2.0</td>\n    </tr>\n    <tr>\n      <th>18</th>\n      <td>19</td>\n      <td>MO</td>\n      <td>Missouri</td>\n      <td>500000</td>\n      <td>13590</td>\n      <td>4720</td>\n      <td>4.0</td>\n    </tr>\n    <tr>\n      <th>19</th>\n      <td>20</td>\n      <td>MS</td>\n      <td>Mississippi</td>\n      <td>10000</td>\n      <td>13590</td>\n      <td>4720</td>\n      <td>2.5</td>\n    </tr>\n    <tr>\n      <th>20</th>\n      <td>21</td>\n      <td>NC</td>\n      <td>North Carolina</td>\n      <td>20000</td>\n      <td>13590</td>\n      <td>4720</td>\n      <td>3.0</td>\n    </tr>\n    <tr>\n      <th>21</th>\n      <td>22</td>\n      <td>ND</td>\n      <td>North Dakota</td>\n      <td>10000</td>\n      <td>13590</td>\n      <td>4720</td>\n      <td>2.5</td>\n    </tr>\n    <tr>\n      <th>22</th>\n      <td>23</td>\n      <td>NE</td>\n      <td>Nebraska</td>\n      <td>500000</td>\n      <td>13590</td>\n      <td>4720</td>\n      <td>4.0</td>\n    </tr>\n    <tr>\n      <th>23</th>\n      <td>24</td>\n      <td>NH</td>\n      <td>New Hampshire</td>\n      <td>10000</td>\n      <td>13590</td>\n      <td>4720</td>\n      <td>4.0</td>\n    </tr>\n    <tr>\n      <th>24</th>\n      <td>25</td>\n      <td>NJ</td>\n      <td>New Jersey</td>\n      <td>500000</td>\n      <td>13590</td>\n      <td>4720</td>\n      <td>4.0</td>\n    </tr>\n    <tr>\n      <th>25</th>\n      <td>26</td>\n      <td>NM</td>\n      <td>New Mexico</td>\n      <td>10000</td>\n      <td>13590</td>\n      <td>4720</td>\n      <td>2.5</td>\n    </tr>\n    <tr>\n      <th>26</th>\n      <td>27</td>\n      <td>NY</td>\n      <td>New York</td>\n      <td>500000</td>\n      <td>13590</td>\n      <td>4720</td>\n      <td>4.0</td>\n    </tr>\n    <tr>\n      <th>27</th>\n      <td>28</td>\n      <td>OK</td>\n      <td>Oklahoma</td>\n      <td>10000</td>\n      <td>13590</td>\n      <td>4720</td>\n      <td>2.5</td>\n    </tr>\n    <tr>\n      <th>28</th>\n      <td>29</td>\n      <td>PA</td>\n      <td>Pennsylvania</td>\n      <td>10000</td>\n      <td>13590</td>\n      <td>4720</td>\n      <td>2.5</td>\n    </tr>\n    <tr>\n      <th>29</th>\n      <td>30</td>\n      <td>SC</td>\n      <td>South Carolina</td>\n      <td>10000</td>\n      <td>13590</td>\n      <td>4720</td>\n      <td>2.5</td>\n    </tr>\n    <tr>\n      <th>30</th>\n      <td>31</td>\n      <td>SD</td>\n      <td>South Dakota</td>\n      <td>10000</td>\n      <td>13590</td>\n      <td>4720</td>\n      <td>2.5</td>\n    </tr>\n    <tr>\n      <th>31</th>\n      <td>32</td>\n      <td>TN</td>\n      <td>Tennessee</td>\n      <td>10000</td>\n      <td>13590</td>\n      <td>4720</td>\n      <td>2.5</td>\n    </tr>\n    <tr>\n      <th>32</th>\n      <td>33</td>\n      <td>TX</td>\n      <td>Texas</td>\n      <td>10000</td>\n      <td>13590</td>\n      <td>4720</td>\n      <td>2.5</td>\n    </tr>\n    <tr>\n      <th>33</th>\n      <td>34</td>\n      <td>US</td>\n      <td>ABA Federal</td>\n      <td>10000</td>\n      <td>13590</td>\n      <td>4720</td>\n      <td>2.5</td>\n    </tr>\n    <tr>\n      <th>34</th>\n      <td>35</td>\n      <td>UT</td>\n      <td>Utah</td>\n      <td>10000</td>\n      <td>13590</td>\n      <td>4720</td>\n      <td>2.5</td>\n    </tr>\n    <tr>\n      <th>35</th>\n      <td>36</td>\n      <td>VA</td>\n      <td>Virginia</td>\n      <td>10000</td>\n      <td>13590</td>\n      <td>4720</td>\n      <td>2.5</td>\n    </tr>\n    <tr>\n      <th>36</th>\n      <td>37</td>\n      <td>VI</td>\n      <td>U.S. Virgin Islands</td>\n      <td>10000</td>\n      <td>13590</td>\n      <td>4720</td>\n      <td>2.5</td>\n    </tr>\n    <tr>\n      <th>37</th>\n      <td>38</td>\n      <td>VT</td>\n      <td>Vermont</td>\n      <td>10000</td>\n      <td>13590</td>\n      <td>4720</td>\n      <td>2.5</td>\n    </tr>\n    <tr>\n      <th>38</th>\n      <td>39</td>\n      <td>WA</td>\n      <td>Washington</td>\n      <td>10000</td>\n      <td>13590</td>\n      <td>4720</td>\n      <td>2.5</td>\n    </tr>\n    <tr>\n      <th>39</th>\n      <td>40</td>\n      <td>WI</td>\n      <td>Wisconsin</td>\n      <td>20000</td>\n      <td>13590</td>\n      <td>4720</td>\n      <td>4.0</td>\n    </tr>\n    <tr>\n      <th>40</th>\n      <td>41</td>\n      <td>WV</td>\n      <td>West Virginia</td>\n      <td>10000</td>\n      <td>13590</td>\n      <td>4720</td>\n      <td>4.0</td>\n    </tr>\n    <tr>\n      <th>41</th>\n      <td>42</td>\n      <td>WY</td>\n      <td>Wyoming</td>\n      <td>10000</td>\n      <td>13590</td>\n      <td>4720</td>\n      <td>2.5</td>\n    </tr>\n  </tbody>\n</table>\n</div>"
     },
     "execution_count": 16,
     "metadata": {},
     "output_type": "execute_result"
    }
   ],
   "source": [
    "states = pd.read_csv('data/statesites.csv')\n",
    "states"
   ],
   "metadata": {
    "collapsed": false,
    "ExecuteTime": {
     "start_time": "2023-04-16T22:06:07.080500Z",
     "end_time": "2023-04-16T22:06:07.102075Z"
    }
   }
  },
  {
   "cell_type": "code",
   "execution_count": null,
   "outputs": [],
   "source": [
    "# average household size over us for income buckets < 25K\n",
    "# this is a pretty poor way to do this, but time is of the essence\n",
    "# avg_household = sum([1.88,\t1.72,\t1.56,\t1.68,\t1.83]) / 5\n"
   ],
   "metadata": {
    "collapsed": false
   }
  }
 ],
 "metadata": {
  "kernelspec": {
   "display_name": "Python 3",
   "language": "python",
   "name": "python3"
  },
  "language_info": {
   "codemirror_mode": {
    "name": "ipython",
    "version": 2
   },
   "file_extension": ".py",
   "mimetype": "text/x-python",
   "name": "python",
   "nbconvert_exporter": "python",
   "pygments_lexer": "ipython2",
   "version": "2.7.6"
  }
 },
 "nbformat": 4,
 "nbformat_minor": 0
}
